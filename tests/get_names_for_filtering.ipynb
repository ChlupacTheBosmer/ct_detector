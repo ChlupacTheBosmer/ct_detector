{
 "cells": [
  {
   "cell_type": "code",
   "execution_count": null,
   "id": "initial_id",
   "metadata": {
    "collapsed": true
   },
   "outputs": [],
   "source": [
    "import re\n",
    "from pathlib import Path\n",
    "\n",
    "def recover_original_filename(path: str) -> str:\n",
    "    \"\"\"\n",
    "    Given a YOLO-formatted image filename with suffix '_<EXT>.rf.<HASH>.jpg',\n",
    "    return the original filename: <base>.<EXT>\n",
    "    \"\"\"\n",
    "    name = Path(path).name  # strip directory\n",
    "\n",
    "    # Match pattern: anything + _EXT.rf.HASH.jpg\n",
    "    pattern = r\"^(.*)_([A-Za-z0-9]+)\\.rf\\.[a-f0-9]{32}\\.jpg$\"\n",
    "    match = re.match(pattern, name)\n",
    "    if not match:\n",
    "        raise ValueError(f\"Filename format not recognized: {name}\")\n",
    "\n",
    "    base_name, ext = match.groups()\n",
    "    return f\"{base_name}.{ext.upper()}\""
   ]
  },
  {
   "metadata": {},
   "cell_type": "code",
   "outputs": [],
   "execution_count": null,
   "source": [
    "from pathlib import Path\n",
    "from typing import List, Union\n",
    "\n",
    "def write_paths_to_txt(paths: List[Union[str, Path]], output_file: Union[str, Path]):\n",
    "    \"\"\"\n",
    "    Write a list of paths to a .txt file, one path per line.\n",
    "\n",
    "    Args:\n",
    "        paths (List[Union[str, Path]]): List of file paths.\n",
    "        output_file (Union[str, Path]): Output .txt file path.\n",
    "    \"\"\"\n",
    "    output_file = Path(output_file)\n",
    "    with output_file.open('w', encoding='utf-8') as f:\n",
    "        for path in paths:\n",
    "            f.write(str(path) + '\\n')"
   ],
   "id": "5229139166d9b07e"
  },
  {
   "metadata": {},
   "cell_type": "code",
   "outputs": [],
   "execution_count": null,
   "source": [
    "from pathlib import Path\n",
    "\n",
    "def modify_filename_prefix(path: str, prefix: str, add: bool = True) -> str:\n",
    "    \"\"\"\n",
    "    Add or remove a prefix from the filename (before extension).\n",
    "\n",
    "    Args:\n",
    "        path (str): Original file path.\n",
    "        prefix (str): Prefix to add or remove (no slash).\n",
    "        add (bool): If True, add prefix; if False, remove it if present.\n",
    "\n",
    "    Returns:\n",
    "        str: Modified filename (not full path).\n",
    "    \"\"\"\n",
    "    p = Path(path)\n",
    "    stem = p.stem\n",
    "    ext = p.suffix\n",
    "\n",
    "    if add:\n",
    "        if not stem.startswith(prefix):\n",
    "            stem = prefix + stem\n",
    "    else:\n",
    "        if stem.startswith(prefix):\n",
    "            stem = stem[len(prefix):]\n",
    "\n",
    "    return stem + ext"
   ],
   "id": "fa4c661a43fff4ea"
  },
  {
   "metadata": {},
   "cell_type": "code",
   "outputs": [],
   "execution_count": null,
   "source": [
    "folder_path = \"\"\n",
    "\n",
    "for path in [p for p in Path(folder_path).iterdir() if p.is_file()]:\n",
    "    try:\n",
    "        original_name = recover_original_filename(path)\n",
    "        print(f\"Original name: {original_name}\")\n",
    "    except ValueError as e:\n",
    "        print(e)"
   ],
   "id": "4c67dcc03f126cef"
  }
 ],
 "metadata": {
  "kernelspec": {
   "display_name": "Python 3",
   "language": "python",
   "name": "python3"
  },
  "language_info": {
   "codemirror_mode": {
    "name": "ipython",
    "version": 2
   },
   "file_extension": ".py",
   "mimetype": "text/x-python",
   "name": "python",
   "nbconvert_exporter": "python",
   "pygments_lexer": "ipython2",
   "version": "2.7.6"
  }
 },
 "nbformat": 4,
 "nbformat_minor": 5
}
