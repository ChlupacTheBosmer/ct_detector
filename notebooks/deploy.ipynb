{
 "cells": [
  {
   "metadata": {},
   "cell_type": "markdown",
   "source": "# Deployment",
   "id": "da0cb4156232b105"
  },
  {
   "metadata": {},
   "cell_type": "markdown",
   "source": [
    "This Jupyter notebook demonstrates the end-to-end deployment of the ct_detector package for elephant camera trap data processing. It covers the setup of data paths, the generation of mosaics, the initialization of trackers, the configuration of callbacks, and the running of predictions with a custom ensemble model. The notebook culminates in post-processing, which includes saving results to an SQLite database and generating mosaic images.\n",
    "\n",
    "In this cell, we define the folder paths where the camera trap images are stored, along with the localities and camera IDs. These are used to structure and access the relevant images for processing. You can modify the localities, cam_ids, and folders to match your dataset structure."
   ],
   "id": "305f426c338aacf"
  },
  {
   "metadata": {},
   "cell_type": "code",
   "source": [
    "import os\n",
    "from ct_detector.model import DATASETS_DIR\n",
    "\n",
    "folder_path = os.path.join(DATASETS_DIR, \"3\", \"test\", \"images\")\n",
    "localities = [\"Dibo\", \"Golom\", \"Messok\"]\n",
    "dibo_cams = [\"dgor1\", \"dgor2\", \"dgor3\", \"dgor4\"]\n",
    "golom_cams = [\"gele1\", \"gele2\", \"gele3\"]\n",
    "messok_cams = [\"mgor2\", \"mgor3\"]\n",
    "cam_ids = [dibo_cams, golom_cams, messok_cams]\n",
    "resources = {k: v for k, v in zip(localities, [{cam_id: {} for cam_id in loc_ids} for loc_ids in cam_ids])}\n",
    "folders = {k: v for k, v in zip(localities, cam_ids)}\n",
    "print(folders)"
   ],
   "id": "3da97f1d58d042c0",
   "outputs": [],
   "execution_count": null
  },
  {
   "metadata": {},
   "cell_type": "markdown",
   "source": "This cell defines a function that processes each camera trap subfolder to resize images and create mosaics. The mosaics are helpful for visualizing the results and analyzing the images in bulk. You can adjust the output size and maximum mosaic size multiplier as needed.",
   "id": "e8d2abf2e01cdecc"
  },
  {
   "metadata": {},
   "cell_type": "code",
   "source": [
    "from ct_detector.utils.mosaics import create_mosaics_from_folders\n",
    "\n",
    "\n",
    "def postprocess_mosaics(folders: dict):\n",
    "    \"\"\"\n",
    "    Process each subfolder in the input folder, resize images, and create mosaics.\n",
    "    \"\"\"\n",
    "    for locality, cam_ids in folders.items():\n",
    "        for cam_id in cam_ids:\n",
    "            subdir = os.path.join('./results', locality, cam_id, 'individual_crops')\n",
    "            create_mosaics_from_folders(subdir, output_size=320, max_size_multiplier=5)"
   ],
   "id": "fb1b6ed27f858d3",
   "outputs": [],
   "execution_count": null
  },
  {
   "metadata": {},
   "cell_type": "markdown",
   "source": "Here, we initialize a tracker for each camera trap dataset and set up a callback for tracking the results. Additionally, metadata (such as locality and camera ID) is added for each camera trap. You can customize this setup to track additional features or modify the callback behavior.",
   "id": "44f99c2fa0afdd1b"
  },
  {
   "metadata": {},
   "cell_type": "code",
   "source": [
    "from ct_detector.model.track import CtTracker\n",
    "from ct_detector.callbacks.track import track_results\n",
    "from ct_detector.callbacks.database import postprocess_sqlite_data\n",
    "\n",
    "for locality, cam_ids in resources.items():\n",
    "    for cam_id, data in cam_ids.items():\n",
    "        data['tracker'] = CtTracker()  # Initialize the tracker\n",
    "        data['track_callback'] = track_results(data['tracker'], persist=True)  # Initialize the tracking callback\n",
    "        data['metadata'] = {\"location\": locality, \"camera_id\": cam_id}  # Add metadata\n",
    "\n",
    "postprocess_callback = postprocess_sqlite_data(db_path=\"elephants.db\", source_table=\"image_data\")"
   ],
   "id": "5627f786f3880611",
   "outputs": [],
   "execution_count": null
  },
  {
   "metadata": {},
   "cell_type": "markdown",
   "source": "In this cell, we define the function setup_callbacks, which configures the necessary callbacks for logging prediction data into an SQLite database, saving class mosaics, and displaying results on the screen. You can add more callbacks depending on your needs or modify the existing ones.",
   "id": "3af61b930c448e99"
  },
  {
   "cell_type": "code",
   "id": "initial_id",
   "metadata": {
    "collapsed": true
   },
   "source": [
    "# We will import all the callbacks we need.\n",
    "from ct_detector.callbacks.database import log_prediction_data_into_sqlite, CLASS_MAP, postprocess_sqlite_data\n",
    "from ct_detector.callbacks.images import save_cls_mosaic\n",
    "from ct_detector.callbacks.base import display_results\n",
    "\n",
    "\n",
    "def setup_callbacks(db_path: str, metadata: dict, output_dir: str, class_map: dict = CLASS_MAP):\n",
    "\n",
    "    callbacks = {}\n",
    "\n",
    "    # We set up the callbacks that require it.\n",
    "    callbacks['db'] = log_prediction_data_into_sqlite(db_path=db_path, table_name=\"image_data\", class_map=class_map, metadata=metadata)\n",
    "    callbacks['img'] = save_cls_mosaic(output_dir=output_dir, mosaic_size=640, padding=10, class_map=class_map)\n",
    "    callbacks['etc'] = display_results  # Display results on the screen\n",
    "\n",
    "    return callbacks"
   ],
   "outputs": [],
   "execution_count": null
  },
  {
   "metadata": {},
   "cell_type": "markdown",
   "source": "This cell defines the function run_predictions, which runs predictions using a model ensemble. The CtEnsembler is set up with paths to the YOLO models and various predictor options. It also specifies the settings for result merging and applies the configured callbacks during prediction. You can modify the model paths, confidence thresholds, and NMS settings to fit your use case.",
   "id": "c68ce8a38f0400bb"
  },
  {
   "metadata": {},
   "cell_type": "code",
   "source": [
    "from ct_detector.model.ensemble import CtEnsembler\n",
    "from ct_detector.model import MODELS, DATASETS, DATASETS_DIR\n",
    "import os\n",
    "\n",
    "\n",
    "def run_predictions(data_path: str, callbacks):\n",
    "\n",
    "    # Create the ensemble\n",
    "    ensembler = CtEnsembler(\n",
    "        model_paths=[MODELS['eie_t_1_yolov8m'], MODELS['eie_t_1_yolov9m']], # Specify a list of models\n",
    "        predictor_overrides={\"conf\": 0.3, \"save_txt\": False, \"verbose\": False, 'imgsz': 640},  # conf, imagsz - for auto-resizing\n",
    "    )\n",
    "\n",
    "    # Run predictions on a .txt of images with custom callbacks\n",
    "    gen = ensembler.predict(\n",
    "        source=data_path,\n",
    "        nms_iou_thres=0.5, # threshold for overlap during result merging\n",
    "        nms_conf_thres=0.3, # threshold of conf considered during result merging\n",
    "        class_agnostic=False, # whether to consider boxes of any class for merging in case of sufficient overlap or whether only consider same class\n",
    "        class_merge_map={0:0, 1:1, 2:0, 3:2},  # Merge classes 0 and 2. Specify groups of classes that are together considered for merging.\n",
    "        _callbacks=callbacks # A list of callback to execute after a result is merged.\n",
    "    )\n",
    "\n",
    "    # For each merged frame, do more logic if you want\n",
    "    for idx, merged_frame in enumerate(gen):\n",
    "        pass"
   ],
   "id": "fd575e1e8d6e4f8d",
   "outputs": [],
   "execution_count": null
  },
  {
   "metadata": {},
   "cell_type": "markdown",
   "source": "This final cell loops through all camera trap data, runs predictions using the previously set up callbacks, and finally calls the post-processing functions for both the database and mosaics. You can customize the data path and tweak the post-processing functions if your results require further refinement.",
   "id": "93bbf768c1dbc4e2"
  },
  {
   "metadata": {},
   "cell_type": "code",
   "source": [
    "# For each camera_id in each locality run the predictions, when all is done postprocess the database and mosaics.\n",
    "data_path = os.path.join(DATASETS_DIR, \"2\", \"test\", \"images\") # or your dataset .yaml or folder of images\n",
    "\n",
    "for locality, cam_ids in folders.items():\n",
    "        for cam_id in cam_ids:\n",
    "            # Put together the source data path\n",
    "            data_path = os.path.join(folder_path, locality, cam_id)\n",
    "\n",
    "            # Set up the callbacks\n",
    "            callbacks_db = setup_callbacks(db_path=\"elephants.db\",\n",
    "                                           metadata=resources[locality][cam_id]['metadata'],\n",
    "                                           output_dir=os.path.join('./results', locality, cam_id)\n",
    "            )\n",
    "            callbacks = [\n",
    "                resources[locality][cam_id]['track_callback'],\n",
    "                callbacks_db['db'],\n",
    "                callbacks_db['img'],\n",
    "                callbacks_db['etc']\n",
    "            ]\n",
    "\n",
    "            # Run the predictions\n",
    "            run_predictions(data_path, callbacks)\n",
    "\n",
    "# Postprocess the database and mosaics\n",
    "postprocess_callback()\n",
    "postprocess_mosaics(folders)"
   ],
   "id": "2e356d5117b992a0",
   "outputs": [],
   "execution_count": null
  }
 ],
 "metadata": {
  "kernelspec": {
   "display_name": "Python 3",
   "language": "python",
   "name": "python3"
  },
  "language_info": {
   "codemirror_mode": {
    "name": "ipython",
    "version": 2
   },
   "file_extension": ".py",
   "mimetype": "text/x-python",
   "name": "python",
   "nbconvert_exporter": "python",
   "pygments_lexer": "ipython2",
   "version": "2.7.6"
  }
 },
 "nbformat": 4,
 "nbformat_minor": 5
}
