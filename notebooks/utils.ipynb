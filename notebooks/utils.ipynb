{
 "cells": [
  {
   "metadata": {},
   "cell_type": "markdown",
   "source": "# Convert SQLite to Excel",
   "id": "1ae93c5a987b44cc"
  },
  {
   "metadata": {
    "ExecuteTime": {
     "end_time": "2025-04-09T00:11:20.992851Z",
     "start_time": "2025-04-09T00:11:12.895961Z"
    }
   },
   "cell_type": "code",
   "source": [
    "from ct_detector.utils import sqlite_to_excel\n",
    "from ct_detector import ROOT_DIR\n",
    "import os\n",
    "\n",
    "sqlite_to_excel(\n",
    "    db_path=os.path.join(ROOT_DIR, \"assets\", \"test\", \"elephants.db\"),\n",
    "    excel_path=os.path.join(ROOT_DIR, \"assets\", \"test\", \"elephants.xlsx\")\n",
    ")"
   ],
   "id": "ab18d72b8bc38d60",
   "outputs": [],
   "execution_count": 1
  },
  {
   "metadata": {},
   "cell_type": "markdown",
   "source": "# Copy list of images to a directory",
   "id": "47d125cfc0c1e9e0"
  },
  {
   "metadata": {
    "ExecuteTime": {
     "end_time": "2025-04-10T16:20:24.878638Z",
     "start_time": "2025-04-10T16:20:24.779280Z"
    }
   },
   "cell_type": "code",
   "source": [
    "# A function you can use to copy a list of images from one directory to another. This is handy for extracting a list of images of a one identified individual for example. Simply copy the list of images in which the individual is present and run the function. You will need to define in which folder the script should search for images. In case more than one image is found, they will be renamed by adding a suffix with the name of the folder in which they are found.\n",
    "import os\n",
    "from ct_detector.utils import copy_images\n",
    "from ct_detector.model import DATASETS_DIR\n",
    "\n",
    "# Define the source and output directories.\n",
    "source_dir = os.path.join(DATASETS_DIR, \"3\", \"test\", \"images\")\n",
    "output_dir = \"./images\"\n",
    "\n",
    "# Define a list of image file names (with or without extensions) that you want to copy.\n",
    "file_names = [\n",
    "    \"IMAG3931.JPG\",\n",
    "    \"IMAG3950.JPG\",\n",
    "    \"IMAG3963.JPG\"\n",
    "]\n",
    "\n",
    "# Call the function to perform the file copy.\n",
    "copy_images(source_dir, output_dir, file_names)"
   ],
   "id": "7892afba1224c41d",
   "outputs": [
    {
     "name": "stdout",
     "output_type": "stream",
     "text": [
      "Copied D:\\Dílna\\Kutění\\Junek\\ct_detector\\assets\\datasets\\3\\test\\images\\Dibo\\dgor2\\IMAG3931.JPG to images\\IMAG3931.JPG\n",
      "Copied D:\\Dílna\\Kutění\\Junek\\ct_detector\\assets\\datasets\\3\\test\\images\\Dibo\\dgor2\\IMAG3950.JPG to images\\IMAG3950.JPG\n",
      "Copied D:\\Dílna\\Kutění\\Junek\\ct_detector\\assets\\datasets\\3\\test\\images\\Dibo\\dgor2\\IMAG3963.JPG to images\\IMAG3963.JPG\n"
     ]
    }
   ],
   "execution_count": 2
  }
 ],
 "metadata": {
  "kernelspec": {
   "display_name": "Python 3",
   "language": "python",
   "name": "python3"
  },
  "language_info": {
   "codemirror_mode": {
    "name": "ipython",
    "version": 2
   },
   "file_extension": ".py",
   "mimetype": "text/x-python",
   "name": "python",
   "nbconvert_exporter": "python",
   "pygments_lexer": "ipython2",
   "version": "2.7.6"
  }
 },
 "nbformat": 4,
 "nbformat_minor": 5
}
