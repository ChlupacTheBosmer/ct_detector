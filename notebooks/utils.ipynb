{
 "cells": [
  {
   "metadata": {},
   "cell_type": "markdown",
   "source": "# Convert SQLite to Excel",
   "id": "1ae93c5a987b44cc"
  },
  {
   "metadata": {
    "ExecuteTime": {
     "end_time": "2025-04-09T00:11:20.992851Z",
     "start_time": "2025-04-09T00:11:12.895961Z"
    }
   },
   "cell_type": "code",
   "source": [
    "from ct_detector.utils.db2excel import sqlite_to_excel\n",
    "from ct_detector import ROOT_DIR\n",
    "import os\n",
    "\n",
    "sqlite_to_excel(\n",
    "    db_path=os.path.join(ROOT_DIR, \"assets\", \"test\", \"elephants.db\"),\n",
    "    excel_path=os.path.join(ROOT_DIR, \"assets\", \"test\", \"elephants.xlsx\")\n",
    ")"
   ],
   "id": "ab18d72b8bc38d60",
   "outputs": [],
   "execution_count": 1
  }
 ],
 "metadata": {
  "kernelspec": {
   "display_name": "Python 3",
   "language": "python",
   "name": "python3"
  },
  "language_info": {
   "codemirror_mode": {
    "name": "ipython",
    "version": 2
   },
   "file_extension": ".py",
   "mimetype": "text/x-python",
   "name": "python",
   "nbconvert_exporter": "python",
   "pygments_lexer": "ipython2",
   "version": "2.7.6"
  }
 },
 "nbformat": 4,
 "nbformat_minor": 5
}
